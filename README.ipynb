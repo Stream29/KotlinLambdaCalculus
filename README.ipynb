{
 "cells": [
  {
   "metadata": {},
   "cell_type": "markdown",
   "source": "# Lambda calculus in Kotlin"
  },
  {
   "metadata": {},
   "cell_type": "markdown",
   "source": [
    "## Basic interface definition\n",
    "\n",
    "Since `kotlin.FunctionN` is not able to express a recursive lambda type, whose parameter and return type are both itself, we define a new interface `Lambda` to express it."
   ]
  },
  {
   "cell_type": "code",
   "metadata": {
    "collapsed": true,
    "ExecuteTime": {
     "end_time": "2025-07-14T06:09:19.650140300Z",
     "start_time": "2025-07-14T06:09:19.621394Z"
    }
   },
   "source": [
    "fun interface Lambda {\n",
    "    operator fun invoke(f: Lambda): Lambda\n",
    "}"
   ],
   "outputs": [],
   "execution_count": 12
  },
  {
   "metadata": {},
   "cell_type": "markdown",
   "source": [
    "## Shorthand for defining a lambda expression with currying\n",
    "\n",
    "If we want to write `λab.a` in Kotlin, embedded braces like `{ a -> { b -> a } }` are annoying.\n",
    "Thus, we can use the power of currying."
   ]
  },
  {
   "metadata": {
    "ExecuteTime": {
     "end_time": "2025-07-14T06:09:19.850554700Z",
     "start_time": "2025-07-14T06:09:19.657528400Z"
    }
   },
   "cell_type": "code",
   "source": [
    "inline fun lambda(crossinline block: (Lambda) -> Lambda) =\n",
    "    Lambda { p0 -> block(p0) }\n",
    "\n",
    "inline fun lambda(crossinline block: (Lambda, Lambda) -> Lambda) =\n",
    "    Lambda { p0 -> lambda { p1 -> block(p0, p1) } }\n",
    "\n",
    "inline fun lambda(crossinline block: (Lambda, Lambda, Lambda) -> Lambda) =\n",
    "    Lambda { p0 -> lambda { p1, p2 -> block(p0, p1, p2) } }\n",
    "\n",
    "inline fun lambda(crossinline block: (Lambda, Lambda, Lambda, Lambda) -> Lambda) =\n",
    "    Lambda { p0 -> lambda { p1, p2, p3 -> block(p0, p1, p2, p3) } }\n",
    "\n",
    "inline fun lambda(crossinline block: (Lambda, Lambda, Lambda, Lambda, Lambda) -> Lambda) =\n",
    "    Lambda { p0 -> lambda { p1, p2, p3, p4 -> block(p0, p1, p2, p3, p4) } }\n",
    "\n",
    "inline fun lambda(crossinline block: (Lambda, Lambda, Lambda, Lambda, Lambda, Lambda) -> Lambda) =\n",
    "    Lambda { p0 -> lambda { p1, p2, p3, p4, p5 -> block(p0, p1, p2, p3, p4, p5) } }"
   ],
   "outputs": [],
   "execution_count": 13
  },
  {
   "metadata": {},
   "cell_type": "markdown",
   "source": [
    "## Natural numbers\n",
    "\n",
    "Then we can define natural numbers naturally."
   ]
  },
  {
   "metadata": {
    "ExecuteTime": {
     "end_time": "2025-07-14T06:09:20.022823900Z",
     "start_time": "2025-07-14T06:09:19.863034500Z"
    }
   },
   "cell_type": "code",
   "source": [
    "val zero = lambda { f, x -> x }\n",
    "val one = lambda { f, x -> f(x) }\n",
    "val two = lambda { f, x -> f(f(x)) }"
   ],
   "outputs": [
    {
     "ename": "org.jetbrains.kotlinx.jupyter.exceptions.ReplCompilerException",
     "evalue": "at Cell In[14], line 1, column 21: Parameter 'f' is never used, could be renamed to _\nException while generating code for:\nCONSTRUCTOR visibility:public returnType:<root>.Line_15_jupyter [primary]\n  VALUE_PARAMETER SCRIPT_CALL_PARAMETER kind:Regular name:<earlierScripts> index:0 type:kotlin.Array<kotlin.Any>\n  VALUE_PARAMETER SCRIPT_IMPLICIT_RECEIVER kind:Regular name:<this> index:1 type:jupyter.kotlin.ScriptTemplateWithDisplayHelpers\n  BLOCK_BODY\n    DELEGATING_CONSTRUCTOR_CALL 'public constructor <init> () [primary] declared in kotlin.Any'\n    SET_FIELD 'FIELD SCRIPT_EARLIER_SCRIPTS name:$$earlierScripts type:kotlin.Array<kotlin.Any> visibility:private [final] declared in <root>.Line_15_jupyter' type=kotlin.Unit origin=null\n      receiver: GET_VAR '<this>: <root>.Line_15_jupyter declared in <root>.Line_15_jupyter' type=<root>.Line_15_jupyter origin=null\n      value: GET_VAR '<earlierScripts>: kotlin.Array<kotlin.Any> declared in <root>.Line_15_jupyter.<init>' type=kotlin.Array<kotlin.Any> origin=null\n    SET_FIELD 'FIELD SCRIPT_IMPLICIT_RECEIVER name:$$implicitReceiver_ScriptTemplateWithDisplayHelpers type:jupyter.kotlin.ScriptTemplateWithDisplayHelpers visibility:private [final] declared in <root>.Line_15_jupyter' type=kotlin.Unit origin=null\n      receiver: GET_VAR '<this>: <root>.Line_15_jupyter declared in <root>.Line_15_jupyter' type=<root>.Line_15_jupyter origin=null\n      value: GET_VAR '<this>: jupyter.kotlin.ScriptTemplateWithDisplayHelpers declared in <root>.Line_15_jupyter.<init>' type=jupyter.kotlin.ScriptTemplateWithDisplayHelpers origin=null\n    BLOCK type=kotlin.Unit origin=null\n      SET_FIELD 'FIELD PROPERTY_BACKING_FIELD name:zero type:<root>.Line_13_jupyter.Lambda visibility:private [final]' type=kotlin.Unit origin=INITIALIZE_FIELD\n        receiver: GET_VAR '<this>: <root>.Line_15_jupyter declared in <root>.Line_15_jupyter' type=<root>.Line_15_jupyter origin=null\n        value: CALL 'public final fun lambda (block: kotlin.Function2<<root>.Line_13_jupyter.Lambda, <root>.Line_13_jupyter.Lambda, <root>.Line_13_jupyter.Lambda>): <root>.Line_13_jupyter.Lambda [inline] declared in <root>.Line_14_jupyter' type=<root>.Line_13_jupyter.Lambda origin=null\n          ARG <this>: TYPE_OP type=<root>.Line_14_jupyter origin=IMPLICIT_CAST typeOperand=<root>.Line_14_jupyter\n            TYPE_OP type=<root>.Line_14_jupyter origin=IMPLICIT_CAST typeOperand=<root>.Line_14_jupyter\n              CALL 'public final fun get (index: kotlin.Int): T of kotlin.Array [operator] declared in kotlin.Array' type=T of kotlin.Array origin=null\n                ARG <this>: GET_FIELD 'FIELD SCRIPT_EARLIER_SCRIPTS name:$$earlierScripts type:kotlin.Array<kotlin.Any> visibility:private [final] declared in <root>.Line_15_jupyter' type=kotlin.Array<kotlin.Any> origin=null\n                  receiver: GET_VAR '<this>: <root>.Line_15_jupyter declared in <root>.Line_15_jupyter' type=<root>.Line_15_jupyter origin=IMPLICIT_ARGUMENT\n                ARG index: CONST Int type=kotlin.Int value=10\n          ARG block: BLOCK type=kotlin.Function2<<root>.Line_13_jupyter.Lambda, <root>.Line_13_jupyter.Lambda, <root>.Line_13_jupyter.Lambda> origin=LAMBDA\n            COMPOSITE type=kotlin.Unit origin=null\n            FUNCTION_REFERENCE 'private final fun zero$lambda$0 (f: <root>.Line_13_jupyter.Lambda, x: <root>.Line_13_jupyter.Lambda): <root>.Line_13_jupyter.Lambda declared in <root>.Line_15_jupyter' type=kotlin.Function2<<root>.Line_13_jupyter.Lambda, <root>.Line_13_jupyter.Lambda, <root>.Line_13_jupyter.Lambda> origin=INLINE_LAMBDA reflectionTarget=null\n      SET_FIELD 'FIELD PROPERTY_BACKING_FIELD name:one type:<root>.Line_13_jupyter.Lambda visibility:private [final]' type=kotlin.Unit origin=INITIALIZE_FIELD\n        receiver: GET_VAR '<this>: <root>.Line_15_jupyter declared in <root>.Line_15_jupyter' type=<root>.Line_15_jupyter origin=null\n        value: CALL 'public final fun lambda (block: kotlin.Function2<<root>.Line_13_jupyter.Lambda, <root>.Line_13_jupyter.Lambda, <root>.Line_13_jupyter.Lambda>): <root>.Line_13_jupyter.Lambda [inline] declared in <root>.Line_14_jupyter' type=<root>.Line_13_jupyter.Lambda origin=null\n          ARG <this>: TYPE_OP type=<root>.Line_14_jupyter origin=IMPLICIT_CAST typeOperand=<root>.Line_14_jupyter\n            TYPE_OP type=<root>.Line_14_jupyter origin=IMPLICIT_CAST typeOperand=<root>.Line_14_jupyter\n              CALL 'public final fun get (index: kotlin.Int): T of kotlin.Array [operator] declared in kotlin.Array' type=T of kotlin.Array origin=null\n                ARG <this>: GET_FIELD 'FIELD SCRIPT_EARLIER_SCRIPTS name:$$earlierScripts type:kotlin.Array<kotlin.Any> visibility:private [final] declared in <root>.Line_15_jupyter' type=kotlin.Array<kotlin.Any> origin=null\n                  receiver: GET_VAR '<this>: <root>.Line_15_jupyter declared in <root>.Line_15_jupyter' type=<root>.Line_15_jupyter origin=IMPLICIT_ARGUMENT\n                ARG index: CONST Int type=kotlin.Int value=10\n          ARG block: BLOCK type=kotlin.Function2<<root>.Line_13_jupyter.Lambda, <root>.Line_13_jupyter.Lambda, <root>.Line_13_jupyter.Lambda> origin=LAMBDA\n            COMPOSITE type=kotlin.Unit origin=null\n            FUNCTION_REFERENCE 'private final fun one$lambda$1 (f: <root>.Line_13_jupyter.Lambda, x: <root>.Line_13_jupyter.Lambda): <root>.Line_13_jupyter.Lambda declared in <root>.Line_15_jupyter' type=kotlin.Function2<<root>.Line_13_jupyter.Lambda, <root>.Line_13_jupyter.Lambda, <root>.Line_13_jupyter.Lambda> origin=INLINE_LAMBDA reflectionTarget=null\n      SET_FIELD 'FIELD PROPERTY_BACKING_FIELD name:two type:<root>.Line_13_jupyter.Lambda visibility:private [final]' type=kotlin.Unit origin=INITIALIZE_FIELD\n        receiver: GET_VAR '<this>: <root>.Line_15_jupyter declared in <root>.Line_15_jupyter' type=<root>.Line_15_jupyter origin=null\n        value: CALL 'public final fun lambda (block: kotlin.Function2<<root>.Line_13_jupyter.Lambda, <root>.Line_13_jupyter.Lambda, <root>.Line_13_jupyter.Lambda>): <root>.Line_13_jupyter.Lambda [inline] declared in <root>.Line_14_jupyter' type=<root>.Line_13_jupyter.Lambda origin=null\n          ARG <this>: TYPE_OP type=<root>.Line_14_jupyter origin=IMPLICIT_CAST typeOperand=<root>.Line_14_jupyter\n            TYPE_OP type=<root>.Line_14_jupyter origin=IMPLICIT_CAST typeOperand=<root>.Line_14_jupyter\n              CALL 'public final fun get (index: kotlin.Int): T of kotlin.Array [operator] declared in kotlin.Array' type=T of kotlin.Array origin=null\n                ARG <this>: GET_FIELD 'FIELD SCRIPT_EARLIER_SCRIPTS name:$$earlierScripts type:kotlin.Array<kotlin.Any> visibility:private [final] declared in <root>.Line_15_jupyter' type=kotlin.Array<kotlin.Any> origin=null\n                  receiver: GET_VAR '<this>: <root>.Line_15_jupyter declared in <root>.Line_15_jupyter' type=<root>.Line_15_jupyter origin=IMPLICIT_ARGUMENT\n                ARG index: CONST Int type=kotlin.Int value=10\n          ARG block: BLOCK type=kotlin.Function2<<root>.Line_13_jupyter.Lambda, <root>.Line_13_jupyter.Lambda, <root>.Line_13_jupyter.Lambda> origin=LAMBDA\n            COMPOSITE type=kotlin.Unit origin=null\n            FUNCTION_REFERENCE 'private final fun two$lambda$2 (f: <root>.Line_13_jupyter.Lambda, x: <root>.Line_13_jupyter.Lambda): <root>.Line_13_jupyter.Lambda declared in <root>.Line_15_jupyter' type=kotlin.Function2<<root>.Line_13_jupyter.Lambda, <root>.Line_13_jupyter.Lambda, <root>.Line_13_jupyter.Lambda> origin=INLINE_LAMBDA reflectionTarget=null\n",
     "output_type": "error",
     "traceback": [
      "org.jetbrains.kotlinx.jupyter.exceptions.ReplCompilerException: at Cell In[14], line 1, column 21: Parameter 'f' is never used, could be renamed to _",
      "Exception while generating code for:",
      "CONSTRUCTOR visibility:public returnType:<root>.Line_15_jupyter [primary]",
      "  VALUE_PARAMETER SCRIPT_CALL_PARAMETER kind:Regular name:<earlierScripts> index:0 type:kotlin.Array<kotlin.Any>",
      "  VALUE_PARAMETER SCRIPT_IMPLICIT_RECEIVER kind:Regular name:<this> index:1 type:jupyter.kotlin.ScriptTemplateWithDisplayHelpers",
      "  BLOCK_BODY",
      "    DELEGATING_CONSTRUCTOR_CALL 'public constructor <init> () [primary] declared in kotlin.Any'",
      "    SET_FIELD 'FIELD SCRIPT_EARLIER_SCRIPTS name:$$earlierScripts type:kotlin.Array<kotlin.Any> visibility:private [final] declared in <root>.Line_15_jupyter' type=kotlin.Unit origin=null",
      "      receiver: GET_VAR '<this>: <root>.Line_15_jupyter declared in <root>.Line_15_jupyter' type=<root>.Line_15_jupyter origin=null",
      "      value: GET_VAR '<earlierScripts>: kotlin.Array<kotlin.Any> declared in <root>.Line_15_jupyter.<init>' type=kotlin.Array<kotlin.Any> origin=null",
      "    SET_FIELD 'FIELD SCRIPT_IMPLICIT_RECEIVER name:$$implicitReceiver_ScriptTemplateWithDisplayHelpers type:jupyter.kotlin.ScriptTemplateWithDisplayHelpers visibility:private [final] declared in <root>.Line_15_jupyter' type=kotlin.Unit origin=null",
      "      receiver: GET_VAR '<this>: <root>.Line_15_jupyter declared in <root>.Line_15_jupyter' type=<root>.Line_15_jupyter origin=null",
      "      value: GET_VAR '<this>: jupyter.kotlin.ScriptTemplateWithDisplayHelpers declared in <root>.Line_15_jupyter.<init>' type=jupyter.kotlin.ScriptTemplateWithDisplayHelpers origin=null",
      "    BLOCK type=kotlin.Unit origin=null",
      "      SET_FIELD 'FIELD PROPERTY_BACKING_FIELD name:zero type:<root>.Line_13_jupyter.Lambda visibility:private [final]' type=kotlin.Unit origin=INITIALIZE_FIELD",
      "        receiver: GET_VAR '<this>: <root>.Line_15_jupyter declared in <root>.Line_15_jupyter' type=<root>.Line_15_jupyter origin=null",
      "        value: CALL 'public final fun lambda (block: kotlin.Function2<<root>.Line_13_jupyter.Lambda, <root>.Line_13_jupyter.Lambda, <root>.Line_13_jupyter.Lambda>): <root>.Line_13_jupyter.Lambda [inline] declared in <root>.Line_14_jupyter' type=<root>.Line_13_jupyter.Lambda origin=null",
      "          ARG <this>: TYPE_OP type=<root>.Line_14_jupyter origin=IMPLICIT_CAST typeOperand=<root>.Line_14_jupyter",
      "            TYPE_OP type=<root>.Line_14_jupyter origin=IMPLICIT_CAST typeOperand=<root>.Line_14_jupyter",
      "              CALL 'public final fun get (index: kotlin.Int): T of kotlin.Array [operator] declared in kotlin.Array' type=T of kotlin.Array origin=null",
      "                ARG <this>: GET_FIELD 'FIELD SCRIPT_EARLIER_SCRIPTS name:$$earlierScripts type:kotlin.Array<kotlin.Any> visibility:private [final] declared in <root>.Line_15_jupyter' type=kotlin.Array<kotlin.Any> origin=null",
      "                  receiver: GET_VAR '<this>: <root>.Line_15_jupyter declared in <root>.Line_15_jupyter' type=<root>.Line_15_jupyter origin=IMPLICIT_ARGUMENT",
      "                ARG index: CONST Int type=kotlin.Int value=10",
      "          ARG block: BLOCK type=kotlin.Function2<<root>.Line_13_jupyter.Lambda, <root>.Line_13_jupyter.Lambda, <root>.Line_13_jupyter.Lambda> origin=LAMBDA",
      "            COMPOSITE type=kotlin.Unit origin=null",
      "            FUNCTION_REFERENCE 'private final fun zero$lambda$0 (f: <root>.Line_13_jupyter.Lambda, x: <root>.Line_13_jupyter.Lambda): <root>.Line_13_jupyter.Lambda declared in <root>.Line_15_jupyter' type=kotlin.Function2<<root>.Line_13_jupyter.Lambda, <root>.Line_13_jupyter.Lambda, <root>.Line_13_jupyter.Lambda> origin=INLINE_LAMBDA reflectionTarget=null",
      "      SET_FIELD 'FIELD PROPERTY_BACKING_FIELD name:one type:<root>.Line_13_jupyter.Lambda visibility:private [final]' type=kotlin.Unit origin=INITIALIZE_FIELD",
      "        receiver: GET_VAR '<this>: <root>.Line_15_jupyter declared in <root>.Line_15_jupyter' type=<root>.Line_15_jupyter origin=null",
      "        value: CALL 'public final fun lambda (block: kotlin.Function2<<root>.Line_13_jupyter.Lambda, <root>.Line_13_jupyter.Lambda, <root>.Line_13_jupyter.Lambda>): <root>.Line_13_jupyter.Lambda [inline] declared in <root>.Line_14_jupyter' type=<root>.Line_13_jupyter.Lambda origin=null",
      "          ARG <this>: TYPE_OP type=<root>.Line_14_jupyter origin=IMPLICIT_CAST typeOperand=<root>.Line_14_jupyter",
      "            TYPE_OP type=<root>.Line_14_jupyter origin=IMPLICIT_CAST typeOperand=<root>.Line_14_jupyter",
      "              CALL 'public final fun get (index: kotlin.Int): T of kotlin.Array [operator] declared in kotlin.Array' type=T of kotlin.Array origin=null",
      "                ARG <this>: GET_FIELD 'FIELD SCRIPT_EARLIER_SCRIPTS name:$$earlierScripts type:kotlin.Array<kotlin.Any> visibility:private [final] declared in <root>.Line_15_jupyter' type=kotlin.Array<kotlin.Any> origin=null",
      "                  receiver: GET_VAR '<this>: <root>.Line_15_jupyter declared in <root>.Line_15_jupyter' type=<root>.Line_15_jupyter origin=IMPLICIT_ARGUMENT",
      "                ARG index: CONST Int type=kotlin.Int value=10",
      "          ARG block: BLOCK type=kotlin.Function2<<root>.Line_13_jupyter.Lambda, <root>.Line_13_jupyter.Lambda, <root>.Line_13_jupyter.Lambda> origin=LAMBDA",
      "            COMPOSITE type=kotlin.Unit origin=null",
      "            FUNCTION_REFERENCE 'private final fun one$lambda$1 (f: <root>.Line_13_jupyter.Lambda, x: <root>.Line_13_jupyter.Lambda): <root>.Line_13_jupyter.Lambda declared in <root>.Line_15_jupyter' type=kotlin.Function2<<root>.Line_13_jupyter.Lambda, <root>.Line_13_jupyter.Lambda, <root>.Line_13_jupyter.Lambda> origin=INLINE_LAMBDA reflectionTarget=null",
      "      SET_FIELD 'FIELD PROPERTY_BACKING_FIELD name:two type:<root>.Line_13_jupyter.Lambda visibility:private [final]' type=kotlin.Unit origin=INITIALIZE_FIELD",
      "        receiver: GET_VAR '<this>: <root>.Line_15_jupyter declared in <root>.Line_15_jupyter' type=<root>.Line_15_jupyter origin=null",
      "        value: CALL 'public final fun lambda (block: kotlin.Function2<<root>.Line_13_jupyter.Lambda, <root>.Line_13_jupyter.Lambda, <root>.Line_13_jupyter.Lambda>): <root>.Line_13_jupyter.Lambda [inline] declared in <root>.Line_14_jupyter' type=<root>.Line_13_jupyter.Lambda origin=null",
      "          ARG <this>: TYPE_OP type=<root>.Line_14_jupyter origin=IMPLICIT_CAST typeOperand=<root>.Line_14_jupyter",
      "            TYPE_OP type=<root>.Line_14_jupyter origin=IMPLICIT_CAST typeOperand=<root>.Line_14_jupyter",
      "              CALL 'public final fun get (index: kotlin.Int): T of kotlin.Array [operator] declared in kotlin.Array' type=T of kotlin.Array origin=null",
      "                ARG <this>: GET_FIELD 'FIELD SCRIPT_EARLIER_SCRIPTS name:$$earlierScripts type:kotlin.Array<kotlin.Any> visibility:private [final] declared in <root>.Line_15_jupyter' type=kotlin.Array<kotlin.Any> origin=null",
      "                  receiver: GET_VAR '<this>: <root>.Line_15_jupyter declared in <root>.Line_15_jupyter' type=<root>.Line_15_jupyter origin=IMPLICIT_ARGUMENT",
      "                ARG index: CONST Int type=kotlin.Int value=10",
      "          ARG block: BLOCK type=kotlin.Function2<<root>.Line_13_jupyter.Lambda, <root>.Line_13_jupyter.Lambda, <root>.Line_13_jupyter.Lambda> origin=LAMBDA",
      "            COMPOSITE type=kotlin.Unit origin=null",
      "            FUNCTION_REFERENCE 'private final fun two$lambda$2 (f: <root>.Line_13_jupyter.Lambda, x: <root>.Line_13_jupyter.Lambda): <root>.Line_13_jupyter.Lambda declared in <root>.Line_15_jupyter' type=kotlin.Function2<<root>.Line_13_jupyter.Lambda, <root>.Line_13_jupyter.Lambda, <root>.Line_13_jupyter.Lambda> origin=INLINE_LAMBDA reflectionTarget=null",
      "",
      "\tat org.jetbrains.kotlinx.jupyter.repl.impl.JupyterCompilerImpl.compileSync(JupyterCompilerImpl.kt:152)",
      "\tat org.jetbrains.kotlinx.jupyter.repl.impl.InternalEvaluatorImpl.eval(InternalEvaluatorImpl.kt:127)",
      "\tat org.jetbrains.kotlinx.jupyter.repl.impl.CellExecutorImpl.execute_L4Nmkdk$lambda$9$lambda$1(CellExecutorImpl.kt:80)",
      "\tat org.jetbrains.kotlinx.jupyter.repl.impl.ReplForJupyterImpl.withHost(ReplForJupyterImpl.kt:794)",
      "\tat org.jetbrains.kotlinx.jupyter.repl.impl.CellExecutorImpl.execute-L4Nmkdk(CellExecutorImpl.kt:78)",
      "\tat org.jetbrains.kotlinx.jupyter.repl.execution.CellExecutor.execute-L4Nmkdk$default(CellExecutor.kt:14)",
      "\tat org.jetbrains.kotlinx.jupyter.repl.impl.ReplForJupyterImpl.evaluateUserCode-wNURfNM(ReplForJupyterImpl.kt:616)",
      "\tat org.jetbrains.kotlinx.jupyter.repl.impl.ReplForJupyterImpl.evalExImpl(ReplForJupyterImpl.kt:474)",
      "\tat org.jetbrains.kotlinx.jupyter.repl.impl.ReplForJupyterImpl.evalEx$lambda$20(ReplForJupyterImpl.kt:467)",
      "\tat org.jetbrains.kotlinx.jupyter.repl.impl.ReplForJupyterImpl.withEvalContext(ReplForJupyterImpl.kt:447)",
      "\tat org.jetbrains.kotlinx.jupyter.repl.impl.ReplForJupyterImpl.evalEx(ReplForJupyterImpl.kt:466)",
      "\tat org.jetbrains.kotlinx.jupyter.messaging.IdeCompatibleMessageRequestProcessor.processExecuteRequest$lambda$7$lambda$6$lambda$5(IdeCompatibleMessageRequestProcessor.kt:160)",
      "\tat org.jetbrains.kotlinx.jupyter.streams.BlockingSubstitutionEngine.withDataSubstitution(SubstitutionEngine.kt:70)",
      "\tat org.jetbrains.kotlinx.jupyter.streams.StreamSubstitutionManager.withSubstitutedStreams(StreamSubstitutionManager.kt:118)",
      "\tat org.jetbrains.kotlinx.jupyter.messaging.IdeCompatibleMessageRequestProcessor.withForkedIn(IdeCompatibleMessageRequestProcessor.kt:354)",
      "\tat org.jetbrains.kotlinx.jupyter.messaging.IdeCompatibleMessageRequestProcessor.evalWithIO$lambda$16$lambda$15(IdeCompatibleMessageRequestProcessor.kt:368)",
      "\tat org.jetbrains.kotlinx.jupyter.streams.BlockingSubstitutionEngine.withDataSubstitution(SubstitutionEngine.kt:70)",
      "\tat org.jetbrains.kotlinx.jupyter.streams.StreamSubstitutionManager.withSubstitutedStreams(StreamSubstitutionManager.kt:118)",
      "\tat org.jetbrains.kotlinx.jupyter.messaging.IdeCompatibleMessageRequestProcessor.withForkedErr(IdeCompatibleMessageRequestProcessor.kt:343)",
      "\tat org.jetbrains.kotlinx.jupyter.messaging.IdeCompatibleMessageRequestProcessor.evalWithIO$lambda$16(IdeCompatibleMessageRequestProcessor.kt:367)",
      "\tat org.jetbrains.kotlinx.jupyter.streams.BlockingSubstitutionEngine.withDataSubstitution(SubstitutionEngine.kt:70)",
      "\tat org.jetbrains.kotlinx.jupyter.streams.StreamSubstitutionManager.withSubstitutedStreams(StreamSubstitutionManager.kt:118)",
      "\tat org.jetbrains.kotlinx.jupyter.messaging.IdeCompatibleMessageRequestProcessor.withForkedOut(IdeCompatibleMessageRequestProcessor.kt:335)",
      "\tat org.jetbrains.kotlinx.jupyter.messaging.IdeCompatibleMessageRequestProcessor.evalWithIO(IdeCompatibleMessageRequestProcessor.kt:366)",
      "\tat org.jetbrains.kotlinx.jupyter.messaging.IdeCompatibleMessageRequestProcessor.processExecuteRequest$lambda$7$lambda$6(IdeCompatibleMessageRequestProcessor.kt:159)",
      "\tat org.jetbrains.kotlinx.jupyter.execution.JupyterExecutorImpl$Task.execute(JupyterExecutorImpl.kt:41)",
      "\tat org.jetbrains.kotlinx.jupyter.execution.JupyterExecutorImpl.executorThread$lambda$0(JupyterExecutorImpl.kt:83)",
      "\tat kotlin.concurrent.ThreadsKt$thread$thread$1.run(Thread.kt:30)",
      ""
     ]
    }
   ],
   "execution_count": 14
  }
 ],
 "metadata": {
  "kernelspec": {
   "display_name": "Kotlin",
   "language": "kotlin",
   "name": "kotlin"
  },
  "language_info": {
   "name": "kotlin",
   "version": "2.2.20-dev-4982",
   "mimetype": "text/x-kotlin",
   "file_extension": ".kt",
   "pygments_lexer": "kotlin",
   "codemirror_mode": "text/x-kotlin",
   "nbconvert_exporter": ""
  },
  "ktnbPluginMetadata": {
   "projectDependencies": [
    "LambdaCalculus.main"
   ],
   "projectLibraries": false
  }
 },
 "nbformat": 4,
 "nbformat_minor": 0
}
