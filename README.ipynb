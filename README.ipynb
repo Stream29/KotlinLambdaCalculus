{
 "cells": [
  {
   "metadata": {},
   "cell_type": "markdown",
   "source": "# Lambda calculus in Kotlin"
  },
  {
   "metadata": {},
   "cell_type": "markdown",
   "source": [
    "## Basic interface definition\n",
    "\n",
    "Since `kotlin.FunctionN` is not able to express a recursive lambda type, whose parameter and return type are both itself, we define a new interface `Lambda` to express it."
   ]
  },
  {
   "cell_type": "code",
   "metadata": {
    "collapsed": true,
    "ExecuteTime": {
     "end_time": "2025-07-14T06:48:35.741271100Z",
     "start_time": "2025-07-14T06:48:35.693300800Z"
    }
   },
   "source": [
    "fun interface Lambda {\n",
    "    operator fun invoke(f: Lambda): Lambda\n",
    "}"
   ],
   "outputs": [],
   "execution_count": 3
  },
  {
   "metadata": {},
   "cell_type": "markdown",
   "source": [
    "## Shorthand for defining a lambda expression with currying\n",
    "\n",
    "If we want to write `λab.a` in Kotlin, embedded braces like `{ a -> { b -> a } }` are annoying.\n",
    "Thus, we can use the power of currying."
   ]
  },
  {
   "metadata": {
    "ExecuteTime": {
     "end_time": "2025-07-14T06:48:36.166421200Z",
     "start_time": "2025-07-14T06:48:35.753644400Z"
    }
   },
   "cell_type": "code",
   "source": [
    "fun lambda(block: (Lambda) -> Lambda) =\n",
    "    Lambda { p0 -> block(p0) }\n",
    "\n",
    "fun lambda(block: (Lambda, Lambda) -> Lambda) =\n",
    "    Lambda { p0 -> lambda { p1 -> block(p0, p1) } }\n",
    "\n",
    "fun lambda(block: (Lambda, Lambda, Lambda) -> Lambda) =\n",
    "    Lambda { p0 -> lambda { p1, p2 -> block(p0, p1, p2) } }\n",
    "\n",
    "fun lambda(block: (Lambda, Lambda, Lambda, Lambda) -> Lambda) =\n",
    "    Lambda { p0 -> lambda { p1, p2, p3 -> block(p0, p1, p2, p3) } }\n",
    "\n",
    "fun lambda(block: (Lambda, Lambda, Lambda, Lambda, Lambda) -> Lambda) =\n",
    "    Lambda { p0 -> lambda { p1, p2, p3, p4 -> block(p0, p1, p2, p3, p4) } }\n",
    "\n",
    "fun lambda(block: (Lambda, Lambda, Lambda, Lambda, Lambda, Lambda) -> Lambda) =\n",
    "    Lambda { p0 -> lambda { p1, p2, p3, p4, p5 -> block(p0, p1, p2, p3, p4, p5) } }"
   ],
   "outputs": [],
   "execution_count": 4
  },
  {
   "metadata": {},
   "cell_type": "markdown",
   "source": [
    "## Natural numbers\n",
    "\n",
    "Then we can define natural numbers naturally."
   ]
  },
  {
   "metadata": {
    "ExecuteTime": {
     "end_time": "2025-07-14T06:48:36.415636100Z",
     "start_time": "2025-07-14T06:48:36.199892100Z"
    }
   },
   "cell_type": "code",
   "source": [
    "val zero = lambda { f, x -> x }\n",
    "val one = lambda { f, x -> f(x) }\n",
    "val two = lambda { f, x -> f(f(x)) }"
   ],
   "outputs": [],
   "execution_count": 5
  }
 ],
 "metadata": {
  "kernelspec": {
   "display_name": "Kotlin",
   "language": "kotlin",
   "name": "kotlin"
  },
  "language_info": {
   "name": "kotlin",
   "version": "2.2.20-dev-4982",
   "mimetype": "text/x-kotlin",
   "file_extension": ".kt",
   "pygments_lexer": "kotlin",
   "codemirror_mode": "text/x-kotlin",
   "nbconvert_exporter": ""
  }
 },
 "nbformat": 4,
 "nbformat_minor": 0
}
